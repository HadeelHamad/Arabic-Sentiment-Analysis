{
 "cells": [
  {
   "cell_type": "code",
   "execution_count": 1,
   "metadata": {},
   "outputs": [
    {
     "name": "stdout",
     "output_type": "stream",
     "text": [
      "Requirement already satisfied: pandas in /Users/eng.hessah/opt/anaconda3/lib/python3.7/site-packages (0.25.1)\n",
      "Requirement already satisfied: numpy>=1.13.3 in /Users/eng.hessah/opt/anaconda3/lib/python3.7/site-packages (from pandas) (1.17.2)\n",
      "Requirement already satisfied: python-dateutil>=2.6.1 in /Users/eng.hessah/opt/anaconda3/lib/python3.7/site-packages (from pandas) (2.8.0)\n",
      "Requirement already satisfied: pytz>=2017.2 in /Users/eng.hessah/opt/anaconda3/lib/python3.7/site-packages (from pandas) (2019.3)\n",
      "Requirement already satisfied: six>=1.5 in /Users/eng.hessah/opt/anaconda3/lib/python3.7/site-packages (from python-dateutil>=2.6.1->pandas) (1.12.0)\n",
      "Requirement already satisfied: numpy in /Users/eng.hessah/opt/anaconda3/lib/python3.7/site-packages (1.17.2)\n",
      "Requirement already satisfied: nltk in /Users/eng.hessah/opt/anaconda3/lib/python3.7/site-packages (3.4.5)\n",
      "Requirement already satisfied: six in /Users/eng.hessah/opt/anaconda3/lib/python3.7/site-packages (from nltk) (1.12.0)\n",
      "Requirement already satisfied: matplotlib in /Users/eng.hessah/opt/anaconda3/lib/python3.7/site-packages (3.1.1)\n",
      "Requirement already satisfied: cycler>=0.10 in /Users/eng.hessah/opt/anaconda3/lib/python3.7/site-packages (from matplotlib) (0.10.0)\n",
      "Requirement already satisfied: kiwisolver>=1.0.1 in /Users/eng.hessah/opt/anaconda3/lib/python3.7/site-packages (from matplotlib) (1.1.0)\n",
      "Requirement already satisfied: pyparsing!=2.0.4,!=2.1.2,!=2.1.6,>=2.0.1 in /Users/eng.hessah/opt/anaconda3/lib/python3.7/site-packages (from matplotlib) (2.4.2)\n",
      "Requirement already satisfied: python-dateutil>=2.1 in /Users/eng.hessah/opt/anaconda3/lib/python3.7/site-packages (from matplotlib) (2.8.0)\n",
      "Requirement already satisfied: numpy>=1.11 in /Users/eng.hessah/opt/anaconda3/lib/python3.7/site-packages (from matplotlib) (1.17.2)\n",
      "Requirement already satisfied: six in /Users/eng.hessah/opt/anaconda3/lib/python3.7/site-packages (from cycler>=0.10->matplotlib) (1.12.0)\n",
      "Requirement already satisfied: setuptools in /Users/eng.hessah/opt/anaconda3/lib/python3.7/site-packages (from kiwisolver>=1.0.1->matplotlib) (41.4.0)\n",
      "Requirement already satisfied: sklearn in /Users/eng.hessah/opt/anaconda3/lib/python3.7/site-packages (0.0)\n",
      "Requirement already satisfied: scikit-learn in /Users/eng.hessah/opt/anaconda3/lib/python3.7/site-packages (from sklearn) (0.21.3)\n",
      "Requirement already satisfied: numpy>=1.11.0 in /Users/eng.hessah/opt/anaconda3/lib/python3.7/site-packages (from scikit-learn->sklearn) (1.17.2)\n",
      "Requirement already satisfied: joblib>=0.11 in /Users/eng.hessah/opt/anaconda3/lib/python3.7/site-packages (from scikit-learn->sklearn) (0.13.2)\n",
      "Requirement already satisfied: scipy>=0.17.0 in /Users/eng.hessah/opt/anaconda3/lib/python3.7/site-packages (from scikit-learn->sklearn) (1.3.1)\n",
      "Requirement already satisfied: plotly in /Users/eng.hessah/opt/anaconda3/lib/python3.7/site-packages (4.5.2)\n",
      "Requirement already satisfied: retrying>=1.3.3 in /Users/eng.hessah/opt/anaconda3/lib/python3.7/site-packages (from plotly) (1.3.3)\n",
      "Requirement already satisfied: six in /Users/eng.hessah/opt/anaconda3/lib/python3.7/site-packages (from plotly) (1.12.0)\n",
      "Requirement already satisfied: seaborn in /Users/eng.hessah/opt/anaconda3/lib/python3.7/site-packages (0.9.0)\n",
      "Requirement already satisfied: matplotlib>=1.4.3 in /Users/eng.hessah/opt/anaconda3/lib/python3.7/site-packages (from seaborn) (3.1.1)\n",
      "Requirement already satisfied: scipy>=0.14.0 in /Users/eng.hessah/opt/anaconda3/lib/python3.7/site-packages (from seaborn) (1.3.1)\n",
      "Requirement already satisfied: pandas>=0.15.2 in /Users/eng.hessah/opt/anaconda3/lib/python3.7/site-packages (from seaborn) (0.25.1)\n",
      "Requirement already satisfied: numpy>=1.9.3 in /Users/eng.hessah/opt/anaconda3/lib/python3.7/site-packages (from seaborn) (1.17.2)\n",
      "Requirement already satisfied: cycler>=0.10 in /Users/eng.hessah/opt/anaconda3/lib/python3.7/site-packages (from matplotlib>=1.4.3->seaborn) (0.10.0)\n",
      "Requirement already satisfied: kiwisolver>=1.0.1 in /Users/eng.hessah/opt/anaconda3/lib/python3.7/site-packages (from matplotlib>=1.4.3->seaborn) (1.1.0)\n",
      "Requirement already satisfied: pyparsing!=2.0.4,!=2.1.2,!=2.1.6,>=2.0.1 in /Users/eng.hessah/opt/anaconda3/lib/python3.7/site-packages (from matplotlib>=1.4.3->seaborn) (2.4.2)\n",
      "Requirement already satisfied: python-dateutil>=2.1 in /Users/eng.hessah/opt/anaconda3/lib/python3.7/site-packages (from matplotlib>=1.4.3->seaborn) (2.8.0)\n",
      "Requirement already satisfied: pytz>=2017.2 in /Users/eng.hessah/opt/anaconda3/lib/python3.7/site-packages (from pandas>=0.15.2->seaborn) (2019.3)\n",
      "Requirement already satisfied: six in /Users/eng.hessah/opt/anaconda3/lib/python3.7/site-packages (from cycler>=0.10->matplotlib>=1.4.3->seaborn) (1.12.0)\n",
      "Requirement already satisfied: setuptools in /Users/eng.hessah/opt/anaconda3/lib/python3.7/site-packages (from kiwisolver>=1.0.1->matplotlib>=1.4.3->seaborn) (41.4.0)\n"
     ]
    }
   ],
   "source": [
    "import sys\n",
    "!{sys.executable} -m pip install pandas\n",
    "!{sys.executable} -m pip install numpy\n",
    "!{sys.executable} -m pip install nltk\n",
    "!{sys.executable} -m pip install matplotlib\n",
    "!{sys.executable} -m pip install sklearn\n",
    "!{sys.executable} -m pip install plotly\n",
    "!{sys.executable} -m pip install seaborn\n"
   ]
  },
  {
   "cell_type": "code",
   "execution_count": 1,
   "metadata": {},
   "outputs": [],
   "source": [
    "import pandas as pd\n",
    "\n",
    "import csv\n",
    "import re # for regular expression\n",
    "import string\n",
    "from datetime import datetime\n",
    "\n",
    "import nltk \n",
    "from nltk.tokenize import RegexpTokenizer # dIvide the words \n",
    "from collections import Counter #count the number of word for each list \n",
    "\n",
    "import numpy as np \n",
    "import matplotlib.pyplot as plt\n",
    "\n",
    "import seaborn\n",
    "\n",
    "\n",
    "#import plotly\n",
    "#import plotly.plotly as py\n",
    "#import plotly.graph_objs as go\n",
    "#plotly.tools.set_credentials_file(username='XXXXXX', api_key='XXXXXXX')\n",
    "\n",
    "%matplotlib inline\n"
   ]
  },
  {
   "cell_type": "code",
   "execution_count": 2,
   "metadata": {},
   "outputs": [],
   "source": [
    "# change the seeting of the cells to show the entire content of coulmn ( eexpand the size of coulmn)\n",
    "pd.set_option('display.max_columns', None)\n",
    "pd.set_option('display.max_rows', None)\n",
    "pd.set_option('display.max_colwidth', -1)"
   ]
  },
  {
   "cell_type": "code",
   "execution_count": 3,
   "metadata": {},
   "outputs": [],
   "source": [
    "# Step 6: ML Classification     "
   ]
  },
  {
   "cell_type": "code",
   "execution_count": 4,
   "metadata": {},
   "outputs": [],
   "source": [
    "# read csv file and save it in a data frame\n",
    "data_df3=pd.read_csv('Training data after method1.csv') "
   ]
  },
  {
   "cell_type": "code",
   "execution_count": 5,
   "metadata": {},
   "outputs": [],
   "source": [
    "\n",
    "from sklearn.feature_extraction.text import TfidfVectorizer\n",
    "from sklearn.model_selection import train_test_split\n",
    "from sklearn import svm\n",
    "from sklearn.linear_model import LogisticRegression\n",
    "from sklearn.naive_bayes import MultinomialNB\n",
    "from sklearn.model_selection import cross_val_score, cross_val_predict, KFold\n",
    "from sklearn.metrics  import confusion_matrix, classification_report\n",
    "from sklearn import metrics"
   ]
  },
  {
   "cell_type": "code",
   "execution_count": 6,
   "metadata": {},
   "outputs": [],
   "source": [
    "## remove data with NAN stance\n",
    "data_df3=data_df3[~data_df3[\"sentiment\"].isna()]"
   ]
  },
  {
   "cell_type": "code",
   "execution_count": 7,
   "metadata": {},
   "outputs": [],
   "source": [
    "# remove the \"Neutral\" class\n",
    "data_df3=data_df3[data_df3['sentiment'] != 'neutral']"
   ]
  },
  {
   "cell_type": "code",
   "execution_count": 8,
   "metadata": {},
   "outputs": [
    {
     "data": {
      "text/html": [
       "<div>\n",
       "<style scoped>\n",
       "    .dataframe tbody tr th:only-of-type {\n",
       "        vertical-align: middle;\n",
       "    }\n",
       "\n",
       "    .dataframe tbody tr th {\n",
       "        vertical-align: top;\n",
       "    }\n",
       "\n",
       "    .dataframe thead th {\n",
       "        text-align: right;\n",
       "    }\n",
       "</style>\n",
       "<table border=\"1\" class=\"dataframe\">\n",
       "  <thead>\n",
       "    <tr style=\"text-align: right;\">\n",
       "      <th></th>\n",
       "      <th>tweets</th>\n",
       "      <th>len</th>\n",
       "      <th>ID</th>\n",
       "      <th>Date</th>\n",
       "      <th>Source</th>\n",
       "      <th>Likes</th>\n",
       "      <th>RTs</th>\n",
       "      <th>location</th>\n",
       "      <th>UserName</th>\n",
       "      <th>Name</th>\n",
       "      <th>clean tweets</th>\n",
       "      <th>clean tweet length</th>\n",
       "      <th>sentiment</th>\n",
       "    </tr>\n",
       "  </thead>\n",
       "  <tbody>\n",
       "    <tr>\n",
       "      <td>1</td>\n",
       "      <td>RT @noon: بالبسمة 🎶\\n\\nتوصلك 💛\\n\\nالبهجة 😁\\n\\n#طلباتك_أوامر \\n#هلا_نون https://t.co/H49FTSoVJj</td>\n",
       "      <td>87</td>\n",
       "      <td>1237056779881713665</td>\n",
       "      <td>2020-03-09 16:44:54</td>\n",
       "      <td>Twitter for Android</td>\n",
       "      <td>0</td>\n",
       "      <td>39</td>\n",
       "      <td>Saudi Arabia</td>\n",
       "      <td>almrkazameen991</td>\n",
       "      <td>Ameen althrhain</td>\n",
       "      <td>RT بالبسمه 🎶  توصلك 💛  البهجه 😁  طلباتكاوامر  هلانون</td>\n",
       "      <td>53</td>\n",
       "      <td>positive</td>\n",
       "    </tr>\n",
       "    <tr>\n",
       "      <td>2</td>\n",
       "      <td>See Whats Happening Around Town &amp;amp; Worldwide @Noon W/ @SylviaFOX32 &amp;amp; @KaitlinCody With All The Lastest On Your #1 Ne… https://t.co/i22G7k6xtq</td>\n",
       "      <td>148</td>\n",
       "      <td>1237055940840640512</td>\n",
       "      <td>2020-03-09 16:41:34</td>\n",
       "      <td>Twitter for iPhone</td>\n",
       "      <td>0</td>\n",
       "      <td>0</td>\n",
       "      <td>USA</td>\n",
       "      <td>DeeMillChi</td>\n",
       "      <td>DeeMill</td>\n",
       "      <td>Se Whats Hapening Around Town amp Worldwide W amp With Al The Lastest On Your 1 Ne</td>\n",
       "      <td>83</td>\n",
       "      <td>positive</td>\n",
       "    </tr>\n",
       "    <tr>\n",
       "      <td>5</td>\n",
       "      <td>@noon عندي رصيد في محفظة نون ابي ارجعها لبطاقتي كيف ؟</td>\n",
       "      <td>53</td>\n",
       "      <td>1237052791610388483</td>\n",
       "      <td>2020-03-09 16:29:03</td>\n",
       "      <td>Twitter for Android</td>\n",
       "      <td>0</td>\n",
       "      <td>0</td>\n",
       "      <td>Saudi Arabia</td>\n",
       "      <td>iika_desi</td>\n",
       "      <td>كاديس 🖐🔥\"</td>\n",
       "      <td>عندي رصيد في محفظه نون ابي ارجعها لبطاقتي كيف</td>\n",
       "      <td>47</td>\n",
       "      <td>negative</td>\n",
       "    </tr>\n",
       "    <tr>\n",
       "      <td>10</td>\n",
       "      <td>@noon كيف افعل بطاقة هديه الراجحي</td>\n",
       "      <td>33</td>\n",
       "      <td>1237033937995730950</td>\n",
       "      <td>2020-03-09 15:14:08</td>\n",
       "      <td>Twitter for Android</td>\n",
       "      <td>0</td>\n",
       "      <td>0</td>\n",
       "      <td>None</td>\n",
       "      <td>k4e2w6SSnyKYdb6</td>\n",
       "      <td>الوافي</td>\n",
       "      <td>كيف افعل بطاقه هديه الراجحي</td>\n",
       "      <td>28</td>\n",
       "      <td>negative</td>\n",
       "    </tr>\n",
       "    <tr>\n",
       "      <td>13</td>\n",
       "      <td>@noon https://t.co/frPlvVM5tE</td>\n",
       "      <td>29</td>\n",
       "      <td>1237022055683555329</td>\n",
       "      <td>2020-03-09 14:26:55</td>\n",
       "      <td>Twitter for iPhone</td>\n",
       "      <td>0</td>\n",
       "      <td>0</td>\n",
       "      <td>None</td>\n",
       "      <td>fuadzamareeh</td>\n",
       "      <td>Fuad</td>\n",
       "      <td></td>\n",
       "      <td>1</td>\n",
       "      <td>negative</td>\n",
       "    </tr>\n",
       "  </tbody>\n",
       "</table>\n",
       "</div>"
      ],
      "text/plain": [
       "                                                                                                                                                  tweets  \\\n",
       "1   RT @noon: بالبسمة 🎶\\n\\nتوصلك 💛\\n\\nالبهجة 😁\\n\\n#طلباتك_أوامر \\n#هلا_نون https://t.co/H49FTSoVJj                                                         \n",
       "2   See Whats Happening Around Town &amp; Worldwide @Noon W/ @SylviaFOX32 &amp; @KaitlinCody With All The Lastest On Your #1 Ne… https://t.co/i22G7k6xtq   \n",
       "5   @noon عندي رصيد في محفظة نون ابي ارجعها لبطاقتي كيف ؟                                                                                                  \n",
       "10  @noon كيف افعل بطاقة هديه الراجحي                                                                                                                      \n",
       "13  @noon https://t.co/frPlvVM5tE                                                                                                                          \n",
       "\n",
       "    len                   ID                 Date               Source  Likes  \\\n",
       "1   87   1237056779881713665  2020-03-09 16:44:54  Twitter for Android  0       \n",
       "2   148  1237055940840640512  2020-03-09 16:41:34  Twitter for iPhone   0       \n",
       "5   53   1237052791610388483  2020-03-09 16:29:03  Twitter for Android  0       \n",
       "10  33   1237033937995730950  2020-03-09 15:14:08  Twitter for Android  0       \n",
       "13  29   1237022055683555329  2020-03-09 14:26:55  Twitter for iPhone   0       \n",
       "\n",
       "    RTs      location         UserName             Name  \\\n",
       "1   39   Saudi Arabia  almrkazameen991  Ameen althrhain   \n",
       "2   0    USA           DeeMillChi       DeeMill           \n",
       "5   0    Saudi Arabia  iika_desi        كاديس 🖐🔥\"         \n",
       "10  0    None          k4e2w6SSnyKYdb6  الوافي            \n",
       "13  0    None          fuadzamareeh     Fuad              \n",
       "\n",
       "                                                                          clean tweets  \\\n",
       "1   RT بالبسمه 🎶  توصلك 💛  البهجه 😁  طلباتكاوامر  هلانون                                 \n",
       "2   Se Whats Hapening Around Town amp Worldwide W amp With Al The Lastest On Your 1 Ne   \n",
       "5    عندي رصيد في محفظه نون ابي ارجعها لبطاقتي كيف                                       \n",
       "10   كيف افعل بطاقه هديه الراجحي                                                         \n",
       "13                                                                                       \n",
       "\n",
       "    clean tweet length sentiment  \n",
       "1   53                  positive  \n",
       "2   83                  positive  \n",
       "5   47                  negative  \n",
       "10  28                  negative  \n",
       "13  1                   negative  "
      ]
     },
     "execution_count": 8,
     "metadata": {},
     "output_type": "execute_result"
    }
   ],
   "source": [
    "data_df3.head(5)"
   ]
  },
  {
   "cell_type": "code",
   "execution_count": 9,
   "metadata": {},
   "outputs": [
    {
     "data": {
      "text/html": [
       "<div>\n",
       "<style scoped>\n",
       "    .dataframe tbody tr th:only-of-type {\n",
       "        vertical-align: middle;\n",
       "    }\n",
       "\n",
       "    .dataframe tbody tr th {\n",
       "        vertical-align: top;\n",
       "    }\n",
       "\n",
       "    .dataframe thead th {\n",
       "        text-align: right;\n",
       "    }\n",
       "</style>\n",
       "<table border=\"1\" class=\"dataframe\">\n",
       "  <thead>\n",
       "    <tr style=\"text-align: right;\">\n",
       "      <th></th>\n",
       "      <th>tweets</th>\n",
       "      <th>len</th>\n",
       "      <th>ID</th>\n",
       "      <th>Date</th>\n",
       "      <th>Source</th>\n",
       "      <th>Likes</th>\n",
       "      <th>RTs</th>\n",
       "      <th>location</th>\n",
       "      <th>UserName</th>\n",
       "      <th>Name</th>\n",
       "      <th>clean tweets</th>\n",
       "      <th>clean tweet length</th>\n",
       "      <th>sentiment</th>\n",
       "    </tr>\n",
       "  </thead>\n",
       "  <tbody>\n",
       "    <tr>\n",
       "      <td>1</td>\n",
       "      <td>RT @noon: بالبسمة 🎶\\n\\nتوصلك 💛\\n\\nالبهجة 😁\\n\\n#طلباتك_أوامر \\n#هلا_نون https://t.co/H49FTSoVJj</td>\n",
       "      <td>87</td>\n",
       "      <td>1237056779881713665</td>\n",
       "      <td>2020-03-09 16:44:54</td>\n",
       "      <td>Twitter for Android</td>\n",
       "      <td>0</td>\n",
       "      <td>39</td>\n",
       "      <td>Saudi Arabia</td>\n",
       "      <td>almrkazameen991</td>\n",
       "      <td>Ameen althrhain</td>\n",
       "      <td>RT بالبسمه 🎶  توصلك 💛  البهجه 😁  طلباتكاوامر  هلانون</td>\n",
       "      <td>53</td>\n",
       "      <td>1</td>\n",
       "    </tr>\n",
       "    <tr>\n",
       "      <td>2</td>\n",
       "      <td>See Whats Happening Around Town &amp;amp; Worldwide @Noon W/ @SylviaFOX32 &amp;amp; @KaitlinCody With All The Lastest On Your #1 Ne… https://t.co/i22G7k6xtq</td>\n",
       "      <td>148</td>\n",
       "      <td>1237055940840640512</td>\n",
       "      <td>2020-03-09 16:41:34</td>\n",
       "      <td>Twitter for iPhone</td>\n",
       "      <td>0</td>\n",
       "      <td>0</td>\n",
       "      <td>USA</td>\n",
       "      <td>DeeMillChi</td>\n",
       "      <td>DeeMill</td>\n",
       "      <td>Se Whats Hapening Around Town amp Worldwide W amp With Al The Lastest On Your 1 Ne</td>\n",
       "      <td>83</td>\n",
       "      <td>1</td>\n",
       "    </tr>\n",
       "    <tr>\n",
       "      <td>5</td>\n",
       "      <td>@noon عندي رصيد في محفظة نون ابي ارجعها لبطاقتي كيف ؟</td>\n",
       "      <td>53</td>\n",
       "      <td>1237052791610388483</td>\n",
       "      <td>2020-03-09 16:29:03</td>\n",
       "      <td>Twitter for Android</td>\n",
       "      <td>0</td>\n",
       "      <td>0</td>\n",
       "      <td>Saudi Arabia</td>\n",
       "      <td>iika_desi</td>\n",
       "      <td>كاديس 🖐🔥\"</td>\n",
       "      <td>عندي رصيد في محفظه نون ابي ارجعها لبطاقتي كيف</td>\n",
       "      <td>47</td>\n",
       "      <td>0</td>\n",
       "    </tr>\n",
       "    <tr>\n",
       "      <td>10</td>\n",
       "      <td>@noon كيف افعل بطاقة هديه الراجحي</td>\n",
       "      <td>33</td>\n",
       "      <td>1237033937995730950</td>\n",
       "      <td>2020-03-09 15:14:08</td>\n",
       "      <td>Twitter for Android</td>\n",
       "      <td>0</td>\n",
       "      <td>0</td>\n",
       "      <td>None</td>\n",
       "      <td>k4e2w6SSnyKYdb6</td>\n",
       "      <td>الوافي</td>\n",
       "      <td>كيف افعل بطاقه هديه الراجحي</td>\n",
       "      <td>28</td>\n",
       "      <td>0</td>\n",
       "    </tr>\n",
       "    <tr>\n",
       "      <td>13</td>\n",
       "      <td>@noon https://t.co/frPlvVM5tE</td>\n",
       "      <td>29</td>\n",
       "      <td>1237022055683555329</td>\n",
       "      <td>2020-03-09 14:26:55</td>\n",
       "      <td>Twitter for iPhone</td>\n",
       "      <td>0</td>\n",
       "      <td>0</td>\n",
       "      <td>None</td>\n",
       "      <td>fuadzamareeh</td>\n",
       "      <td>Fuad</td>\n",
       "      <td></td>\n",
       "      <td>1</td>\n",
       "      <td>0</td>\n",
       "    </tr>\n",
       "  </tbody>\n",
       "</table>\n",
       "</div>"
      ],
      "text/plain": [
       "                                                                                                                                                  tweets  \\\n",
       "1   RT @noon: بالبسمة 🎶\\n\\nتوصلك 💛\\n\\nالبهجة 😁\\n\\n#طلباتك_أوامر \\n#هلا_نون https://t.co/H49FTSoVJj                                                         \n",
       "2   See Whats Happening Around Town &amp; Worldwide @Noon W/ @SylviaFOX32 &amp; @KaitlinCody With All The Lastest On Your #1 Ne… https://t.co/i22G7k6xtq   \n",
       "5   @noon عندي رصيد في محفظة نون ابي ارجعها لبطاقتي كيف ؟                                                                                                  \n",
       "10  @noon كيف افعل بطاقة هديه الراجحي                                                                                                                      \n",
       "13  @noon https://t.co/frPlvVM5tE                                                                                                                          \n",
       "\n",
       "    len                   ID                 Date               Source  Likes  \\\n",
       "1   87   1237056779881713665  2020-03-09 16:44:54  Twitter for Android  0       \n",
       "2   148  1237055940840640512  2020-03-09 16:41:34  Twitter for iPhone   0       \n",
       "5   53   1237052791610388483  2020-03-09 16:29:03  Twitter for Android  0       \n",
       "10  33   1237033937995730950  2020-03-09 15:14:08  Twitter for Android  0       \n",
       "13  29   1237022055683555329  2020-03-09 14:26:55  Twitter for iPhone   0       \n",
       "\n",
       "    RTs      location         UserName             Name  \\\n",
       "1   39   Saudi Arabia  almrkazameen991  Ameen althrhain   \n",
       "2   0    USA           DeeMillChi       DeeMill           \n",
       "5   0    Saudi Arabia  iika_desi        كاديس 🖐🔥\"         \n",
       "10  0    None          k4e2w6SSnyKYdb6  الوافي            \n",
       "13  0    None          fuadzamareeh     Fuad              \n",
       "\n",
       "                                                                          clean tweets  \\\n",
       "1   RT بالبسمه 🎶  توصلك 💛  البهجه 😁  طلباتكاوامر  هلانون                                 \n",
       "2   Se Whats Hapening Around Town amp Worldwide W amp With Al The Lastest On Your 1 Ne   \n",
       "5    عندي رصيد في محفظه نون ابي ارجعها لبطاقتي كيف                                       \n",
       "10   كيف افعل بطاقه هديه الراجحي                                                         \n",
       "13                                                                                       \n",
       "\n",
       "    clean tweet length  sentiment  \n",
       "1   53                  1          \n",
       "2   83                  1          \n",
       "5   47                  0          \n",
       "10  28                  0          \n",
       "13  1                   0          "
      ]
     },
     "execution_count": 9,
     "metadata": {},
     "output_type": "execute_result"
    }
   ],
   "source": [
    "data_df3['sentiment'] = data_df3['sentiment'].map({'positive': 1,'negative': 0}) \n",
    "data_df3.head(5)"
   ]
  },
  {
   "cell_type": "code",
   "execution_count": 10,
   "metadata": {},
   "outputs": [],
   "source": [
    "data_df3.to_csv(\"Ready Data.csv\",index=False)"
   ]
  },
  {
   "cell_type": "code",
   "execution_count": 11,
   "metadata": {},
   "outputs": [],
   "source": [
    "# idneitfy the data and the labels\n",
    "data= data_df3['clean tweets']\n",
    "target= data_df3['sentiment']"
   ]
  },
  {
   "cell_type": "code",
   "execution_count": 12,
   "metadata": {},
   "outputs": [
    {
     "data": {
      "text/plain": [
       "(1780, 5472)"
      ]
     },
     "execution_count": 12,
     "metadata": {},
     "output_type": "execute_result"
    }
   ],
   "source": [
    "# Use TfidfVectorizer for feature extraction (TFIDF to convert textual data to numeric form):\n",
    "tf_vec = TfidfVectorizer()\n",
    "X = tf_vec.fit_transform(data)\n",
    "X.shape"
   ]
  },
  {
   "cell_type": "code",
   "execution_count": 13,
   "metadata": {},
   "outputs": [],
   "source": [
    "X_train, X_test, y_train, y_test = train_test_split(X, target, test_size=0.50, random_state=0)"
   ]
  },
  {
   "cell_type": "code",
   "execution_count": 14,
   "metadata": {},
   "outputs": [
    {
     "name": "stdout",
     "output_type": "stream",
     "text": [
      "(890, 5472) (890, 5472) (890,) (890,)\n"
     ]
    }
   ],
   "source": [
    "print(X_train.shape,X_test.shape,y_train.shape,y_test.shape)\n"
   ]
  },
  {
   "cell_type": "code",
   "execution_count": 15,
   "metadata": {},
   "outputs": [],
   "source": [
    "# Classifier 1: Naive Bayes   "
   ]
  },
  {
   "cell_type": "code",
   "execution_count": 16,
   "metadata": {},
   "outputs": [
    {
     "name": "stdout",
     "output_type": "stream",
     "text": [
      "MultinomialNB accuracy: 0.90\n",
      "\n",
      "10-fold cross-validation:\n",
      "[0.89325843 0.89325843 0.89325843 0.89325843 0.89325843 0.88764045\n",
      " 0.89325843 0.89325843 0.89325843 0.89325843]\n",
      "The average accuracy of the MultinomialNB classifier is : 0.89\n",
      "\n",
      "Confusion matrix of the MultinomialNB classifier:\n",
      "[[  0  91]\n",
      " [  0 799]]\n",
      "\n",
      "Classification_report of MultinomialNB classifier:\n",
      "              precision    recall  f1-score   support\n",
      "\n",
      "           0       0.00      0.00      0.00        91\n",
      "           1       0.90      1.00      0.95       799\n",
      "\n",
      "    accuracy                           0.90       890\n",
      "   macro avg       0.45      0.50      0.47       890\n",
      "weighted avg       0.81      0.90      0.85       890\n",
      "\n",
      "----------------------------------------------------------------------------\n"
     ]
    },
    {
     "name": "stderr",
     "output_type": "stream",
     "text": [
      "C:\\Users\\Hadeel\\Anaconda3\\lib\\site-packages\\sklearn\\metrics\\classification.py:1437: UndefinedMetricWarning: Precision and F-score are ill-defined and being set to 0.0 in labels with no predicted samples.\n",
      "  'precision', 'predicted', average, warn_for)\n"
     ]
    }
   ],
   "source": [
    "# create the classifer and fit the training data and lables\n",
    "\n",
    "classifier_nb = MultinomialNB().fit(X_train.todense(),y_train)\n",
    "\n",
    "print(\"MultinomialNB accuracy: %.2f\"%classifier_nb.score(X_test.todense(), y_test))\n",
    "\n",
    "#do a 10 fold cross-validation \n",
    "results_nb = cross_val_score(classifier_nb, X.todense(),target, cv=10)\n",
    "print(\"\\n10-fold cross-validation:\")\n",
    "print(results_nb)\n",
    "\n",
    "print(\"The average accuracy of the MultinomialNB classifier is : %.2f\" % np.mean(results_nb))\n",
    "\n",
    "print(\"\\nConfusion matrix of the MultinomialNB classifier:\")\n",
    "predicted_nb = classifier_nb.predict(X_test.todense())\n",
    "print(confusion_matrix(y_test,predicted_nb))\n",
    "\n",
    "\n",
    "print(\"\\nClassification_report of MultinomialNB classifier:\")\n",
    "print(classification_report(y_test,predicted_nb))\n",
    "print(\"----------------------------------------------------------------------------\")\n"
   ]
  },
  {
   "cell_type": "code",
   "execution_count": 17,
   "metadata": {},
   "outputs": [],
   "source": [
    "#logsitic regrssion   "
   ]
  },
  {
   "cell_type": "code",
   "execution_count": 18,
   "metadata": {},
   "outputs": [
    {
     "name": "stderr",
     "output_type": "stream",
     "text": [
      "C:\\Users\\Hadeel\\Anaconda3\\lib\\site-packages\\sklearn\\linear_model\\logistic.py:432: FutureWarning: Default solver will be changed to 'lbfgs' in 0.22. Specify a solver to silence this warning.\n",
      "  FutureWarning)\n"
     ]
    }
   ],
   "source": [
    "# build the second classifer, logsitic regrssion \n",
    "classifier_log =  LogisticRegression().fit(X_train,y_train)"
   ]
  },
  {
   "cell_type": "code",
   "execution_count": 19,
   "metadata": {},
   "outputs": [
    {
     "name": "stdout",
     "output_type": "stream",
     "text": [
      "Logisitic Accuracy: 0.90\n",
      "\n",
      "10-fold cross-validation:\n",
      "[0.89325843 0.89325843 0.89325843 0.89325843 0.89325843 0.89325843\n",
      " 0.89325843 0.89325843 0.89325843 0.89325843]\n",
      "The average accuracy of the Logisitic classifier is : 0.89\n",
      "\n",
      "Confusion matrix of the Logisitic classifier:\n",
      "[[  0  91]\n",
      " [  0 799]]\n",
      "\n",
      "Classification_report of Logisitic classifier:\n",
      "              precision    recall  f1-score   support\n",
      "\n",
      "           0       0.00      0.00      0.00        91\n",
      "           1       0.90      1.00      0.95       799\n",
      "\n",
      "    accuracy                           0.90       890\n",
      "   macro avg       0.45      0.50      0.47       890\n",
      "weighted avg       0.81      0.90      0.85       890\n",
      "\n",
      "----------------------------------------------------------------------------\n"
     ]
    },
    {
     "name": "stderr",
     "output_type": "stream",
     "text": [
      "C:\\Users\\Hadeel\\Anaconda3\\lib\\site-packages\\sklearn\\linear_model\\logistic.py:432: FutureWarning: Default solver will be changed to 'lbfgs' in 0.22. Specify a solver to silence this warning.\n",
      "  FutureWarning)\n",
      "C:\\Users\\Hadeel\\Anaconda3\\lib\\site-packages\\sklearn\\metrics\\classification.py:1437: UndefinedMetricWarning: Precision and F-score are ill-defined and being set to 0.0 in labels with no predicted samples.\n",
      "  'precision', 'predicted', average, warn_for)\n"
     ]
    }
   ],
   "source": [
    "print(\"Logisitic Accuracy: %.2F\"%classifier_log.score(X_test, y_test))\n",
    "results_log = cross_val_score(classifier_log, X,target, cv=10)\n",
    "\n",
    "\n",
    "print(\"\\n10-fold cross-validation:\")\n",
    "print(results_log)\n",
    "\n",
    "\n",
    "print(\"The average accuracy of the Logisitic classifier is : %.2f\" % np.mean(results_log))\n",
    "print(\"\\nConfusion matrix of the Logisitic classifier:\")\n",
    "predicted_log= classifier_log.predict(X_test)\n",
    "print(confusion_matrix(y_test,predicted_log))\n",
    "\n",
    "\n",
    "print(\"\\nClassification_report of Logisitic classifier:\")\n",
    "print(classification_report(y_test,predicted_log))\n",
    "print(\"----------------------------------------------------------------------------\")"
   ]
  },
  {
   "cell_type": "code",
   "execution_count": null,
   "metadata": {},
   "outputs": [],
   "source": []
  },
  {
   "cell_type": "code",
   "execution_count": null,
   "metadata": {},
   "outputs": [],
   "source": []
  }
 ],
 "metadata": {
  "kernelspec": {
   "display_name": "Python 3",
   "language": "python",
   "name": "python3"
  },
  "language_info": {
   "codemirror_mode": {
    "name": "ipython",
    "version": 3
   },
   "file_extension": ".py",
   "mimetype": "text/x-python",
   "name": "python",
   "nbconvert_exporter": "python",
   "pygments_lexer": "ipython3",
   "version": "3.7.4"
  }
 },
 "nbformat": 4,
 "nbformat_minor": 2
}
